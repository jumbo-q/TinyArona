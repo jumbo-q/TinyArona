{
 "cells": [
  {
   "metadata": {},
   "cell_type": "markdown",
   "source": "# Attention 的 四种写法",
   "id": "b97a67db90d37ba2"
  },
  {
   "metadata": {
    "collapsed": true,
    "ExecuteTime": {
     "end_time": "2025-03-04T18:33:51.196066Z",
     "start_time": "2025-03-04T18:33:51.166502Z"
    }
   },
   "cell_type": "code",
   "source": [
    "import torch\n",
    "import torch.nn as nn\n",
    "import math\n",
    "import torch.nn.functional as F\n",
    "\n",
    "d_model = 512\n",
    "num_heads = 8\n",
    "hidden_dim = 256\n",
    "dropout = 0.2"
   ],
   "id": "initial_id",
   "outputs": [
    {
     "ename": "ModuleNotFoundError",
     "evalue": "No module named 'torch'",
     "output_type": "error",
     "traceback": [
      "\u001B[0;31m---------------------------------------------------------------------------\u001B[0m",
      "\u001B[0;31mModuleNotFoundError\u001B[0m                       Traceback (most recent call last)",
      "Cell \u001B[0;32mIn[5], line 1\u001B[0m\n\u001B[0;32m----> 1\u001B[0m \u001B[38;5;28;01mimport\u001B[39;00m\u001B[38;5;250m \u001B[39m\u001B[38;5;21;01mtorch\u001B[39;00m\n\u001B[1;32m      2\u001B[0m \u001B[38;5;28;01mimport\u001B[39;00m\u001B[38;5;250m \u001B[39m\u001B[38;5;21;01mtorch\u001B[39;00m\u001B[38;5;21;01m.\u001B[39;00m\u001B[38;5;21;01mnn\u001B[39;00m\u001B[38;5;250m \u001B[39m\u001B[38;5;28;01mas\u001B[39;00m\u001B[38;5;250m \u001B[39m\u001B[38;5;21;01mnn\u001B[39;00m\n\u001B[1;32m      3\u001B[0m \u001B[38;5;28;01mimport\u001B[39;00m\u001B[38;5;250m \u001B[39m\u001B[38;5;21;01mmath\u001B[39;00m\n",
      "\u001B[0;31mModuleNotFoundError\u001B[0m: No module named 'torch'"
     ]
    }
   ],
   "execution_count": 5
  },
  {
   "metadata": {
    "ExecuteTime": {
     "end_time": "2025-03-04T18:31:51.775418Z",
     "start_time": "2025-03-04T18:31:49.746870Z"
    }
   },
   "cell_type": "code",
   "source": "!pip install torch",
   "id": "fe77211c9bc6fb21",
   "outputs": [
    {
     "name": "stdout",
     "output_type": "stream",
     "text": [
      "Requirement already satisfied: torch in /opt/miniconda3/lib/python3.12/site-packages (2.2.2)\r\n",
      "Requirement already satisfied: filelock in /opt/miniconda3/lib/python3.12/site-packages (from torch) (3.17.0)\r\n",
      "Requirement already satisfied: typing-extensions>=4.8.0 in /opt/miniconda3/lib/python3.12/site-packages (from torch) (4.12.2)\r\n",
      "Requirement already satisfied: sympy in /opt/miniconda3/lib/python3.12/site-packages (from torch) (1.13.3)\r\n",
      "Requirement already satisfied: networkx in /opt/miniconda3/lib/python3.12/site-packages (from torch) (3.4.2)\r\n",
      "Requirement already satisfied: jinja2 in /opt/miniconda3/lib/python3.12/site-packages (from torch) (3.1.5)\r\n",
      "Requirement already satisfied: fsspec in /opt/miniconda3/lib/python3.12/site-packages (from torch) (2025.2.0)\r\n",
      "Requirement already satisfied: MarkupSafe>=2.0 in /opt/miniconda3/lib/python3.12/site-packages (from jinja2->torch) (3.0.2)\r\n",
      "Requirement already satisfied: mpmath<1.4,>=1.1.0 in /opt/miniconda3/lib/python3.12/site-packages (from sympy->torch) (1.3.0)\r\n"
     ]
    }
   ],
   "execution_count": 2
  },
  {
   "metadata": {},
   "cell_type": "markdown",
   "source": "## 原始",
   "id": "92ed2c77f494bea5"
  },
  {
   "metadata": {},
   "cell_type": "code",
   "source": [
    "class Self_Attention_V1(nn.Module):\n",
    "    def __init__(self, hiddin_dim):\n",
    "        super().__init__()\n",
    "        self.hiddin_dim = hiddin_dim\n",
    "        self.query_proj = nn.Linear(hiddin_dim, hiddin_dim)\n",
    "        self.key_proj = nn.Linear(hiddin_dim, hiddin_dim)\n",
    "        self.value_proj = nn.Linear(hiddin_dim, hiddin_dim)\n",
    "\n",
    "\n",
    "\n",
    "    # X [batch_size,seq,embedding_dim]\n",
    "    def forward(self, X):\n",
    "        Q = self.query_proj(X)\n",
    "        K = self.key_proj(X)\n",
    "        V = self.value_proj(X)\n",
    "        attention_weight= F.softmax(Q@K.permute(0,2,1)/math.sqrt(self.hiddin_dim), dim=-1)\n",
    "        print(attention_weight)\n",
    "        return (\n",
    "           attention_weight @V\n",
    "        )"
   ],
   "id": "7087e1af0a0d8181",
   "outputs": [],
   "execution_count": null
  },
  {
   "metadata": {},
   "cell_type": "code",
   "source": [
    "x1 =torch.randn(3, 3, d_model)\n",
    "x2 = torch.randn(3, 3, d_model)"
   ],
   "id": "7f601e593c187938",
   "outputs": [],
   "execution_count": null
  },
  {
   "metadata": {},
   "cell_type": "code",
   "source": "x1",
   "id": "a03cae9027179c2d",
   "outputs": [],
   "execution_count": null
  },
  {
   "metadata": {},
   "cell_type": "code",
   "source": "x2",
   "id": "49d82174319c9b65",
   "outputs": [],
   "execution_count": null
  },
  {
   "metadata": {},
   "cell_type": "code",
   "source": "self_attention_v1 = Self_Attention_V1(d_model)",
   "id": "409e13f2363c7003",
   "outputs": [],
   "execution_count": null
  },
  {
   "metadata": {},
   "cell_type": "code",
   "source": "self_attention_v1(x1)",
   "id": "63a45876b6dde7a2",
   "outputs": [],
   "execution_count": null
  },
  {
   "metadata": {},
   "cell_type": "markdown",
   "source": "## QKV 转换为Matrix",
   "id": "b2a3d7bcef9d9a6"
  },
  {
   "metadata": {},
   "cell_type": "code",
   "source": [
    "class Self_Attention_V2(nn.Module):\n",
    "    def __init__(self, hiddin_dim):\n",
    "        super().__init__()\n",
    "        self.hiddin_dim = hiddin_dim\n",
    "        self.QKV_proj = nn.Linear(hiddin_dim, hiddin_dim*3)\n",
    "    def forward(self, X):\n",
    "        QKV = self.QKV_proj(X)\n",
    "        Q,K,V = torch.split(QKV,hidden_dim,dim=-1)\n",
    "        attention_weight= F.softmax(Q@K.transpose(-2,-1)/math.sqrt(hidden_dim),dim=-1)\n",
    "        return attention_weight@V\n"
   ],
   "id": "c4f485844ff94dc1",
   "outputs": [],
   "execution_count": null
  },
  {
   "metadata": {},
   "cell_type": "code",
   "source": "self_attention_v2= Self_Attention_V2(d_model)\n",
   "id": "5668ad4d89a8de8c",
   "outputs": [],
   "execution_count": null
  },
  {
   "metadata": {},
   "cell_type": "code",
   "source": "self_attention_v2(x1)",
   "id": "c8fb745003ab7f0e",
   "outputs": [],
   "execution_count": null
  },
  {
   "metadata": {},
   "cell_type": "markdown",
   "source": "## 加细节写法",
   "id": "87af0de418286f99"
  },
  {
   "metadata": {},
   "cell_type": "code",
   "source": [
    "# drop out\n",
    "# attention mask\n",
    "# output matrix\n",
    "\n",
    "class Self_Attention_V3(nn.Module):\n",
    "    def __init__(self, hiddin_dim,dropout=0.2):\n",
    "        super().__init__()\n",
    "        self.hiddin_dim = hiddin_dim\n",
    "        self.QKV_proj = nn.Linear(hiddin_dim, hiddin_dim*3)\n",
    "        self.dropout = nn.Dropout(dropout)\n",
    "\n",
    "    def forward(self, X,mask=None):\n",
    "        QKV = self.QKV_proj(X)\n",
    "        Q,K,V= torch.split(QKV,hidden_dim,dim=-1)\n",
    "        attention_weight= F.softmax(Q@K.transpose(-2,-1)/math.sqrt(hidden_dim),dim=-1)\n",
    "        if mask is not None:\n",
    "            attention_weight = attention_weight.masked_fill(mask==0,float('-inf'))\n",
    "        attention_weight = self.dropout(attention_weight)\n",
    "        return attention_weight@V"
   ],
   "id": "55724b35674c49c1",
   "outputs": [],
   "execution_count": null
  },
  {
   "metadata": {},
   "cell_type": "markdown",
   "source": "## Interview写法(装逼写法）",
   "id": "994ed135ef89dff7"
  },
  {
   "metadata": {},
   "cell_type": "code",
   "outputs": [],
   "execution_count": null,
   "source": [
    "class Self_Attention_V4(nn.Module):\n",
    "    def __init__(self, hiddin_dim: int,dropout=0.2)->None:\n",
    "        super().__init__()\n",
    "        self.hiddin_dim = hiddin_dim\n",
    "        self.query_proj = nn.Linear(hiddin_dim, hiddin_dim)\n",
    "        self.key_proj = nn.Linear(hiddin_dim, hiddin_dim)\n",
    "        self.value_proj = nn.Linear(hiddin_dim, hiddin_dim)\n",
    "        self.dropout = nn.Dropout(dropout)\n",
    "\n",
    "    def forward(self, X,mask=None):\n",
    "        Q = self.query_proj(X)\n",
    "        K = self.key_proj(X)\n",
    "        V = self.value_proj(X)\n",
    "        attention_weight= Q@K.transpose(-2,-1)/math.sqrt(hidden_dim)\n",
    "        if mask is not None:\n",
    "            attention_weight=attention_weight.masked_fill(mask==0,float('-inf'))\n",
    "        attention_weight = F.softmax(attention_weight,dim=-1)\n",
    "        attention_weight = self.dropout(attention_weight)\n",
    "        return attention_weight@V\n"
   ],
   "id": "229dc6874adb6c7e"
  }
 ],
 "metadata": {
  "kernelspec": {
   "display_name": "Python 3",
   "language": "python",
   "name": "python3"
  },
  "language_info": {
   "codemirror_mode": {
    "name": "ipython",
    "version": 2
   },
   "file_extension": ".py",
   "mimetype": "text/x-python",
   "name": "python",
   "nbconvert_exporter": "python",
   "pygments_lexer": "ipython2",
   "version": "2.7.6"
  }
 },
 "nbformat": 4,
 "nbformat_minor": 5
}
