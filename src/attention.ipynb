{
 "cells": [
  {
   "cell_type": "code",
   "id": "initial_id",
   "metadata": {
    "collapsed": true,
    "ExecuteTime": {
     "end_time": "2025-03-04T13:57:45.501632Z",
     "start_time": "2025-03-04T13:57:18.885253Z"
    }
   },
   "source": [
    "import torch\n",
    "import torch.nn as nn\n",
    "import math\n",
    "import torch.nn.functional as F\n",
    "\n",
    "d_model = 512\n",
    "num_heads = 8\n",
    "hidden_dim = 256\n",
    "dropout = 0.2"
   ],
   "outputs": [
    {
     "name": "stderr",
     "output_type": "stream",
     "text": [
      "C:\\Users\\A\\miniconda3\\Lib\\site-packages\\torch\\_subclasses\\functional_tensor.py:275: UserWarning: Failed to initialize NumPy: No module named 'numpy' (Triggered internally at C:\\actions-runner\\_work\\pytorch\\pytorch\\pytorch\\torch\\csrc\\utils\\tensor_numpy.cpp:81.)\n",
      "  cpu = _conversion_method_template(device=torch.device(\"cpu\"))\n"
     ]
    }
   ],
   "execution_count": 2
  },
  {
   "metadata": {
    "ExecuteTime": {
     "end_time": "2025-03-04T14:03:14.479819Z",
     "start_time": "2025-03-04T14:03:14.459543Z"
    }
   },
   "cell_type": "code",
   "source": [
    "class Self_Attention_V1(nn.Module):\n",
    "    def __init__(self, hiddin_dim):\n",
    "        super().__init__()\n",
    "        self.hiddin_dim = hiddin_dim\n",
    "        self.query_proj = nn.Linear(hiddin_dim, hiddin_dim)\n",
    "        self.key_proj = nn.Linear(hiddin_dim, hiddin_dim)\n",
    "        self.value_proj = nn.Linear(hiddin_dim, hiddin_dim)\n",
    "\n",
    "\n",
    "\n",
    "    # X [batch_size,seq,embedding_dim]\n",
    "    def forward(self, X):\n",
    "        Q = self.query_proj(X)\n",
    "        K = self.key_proj(X)\n",
    "        V = self.value_proj(X)\n",
    "        attention_weight= F.softmax(Q@K.permute(0,2,1)/math.sqrt(self.hiddin_dim), dim=-1)\n",
    "        print(attention_weight)\n",
    "        return (\n",
    "           attention_weight @V\n",
    "        )"
   ],
   "id": "7087e1af0a0d8181",
   "outputs": [],
   "execution_count": 11
  },
  {
   "metadata": {
    "ExecuteTime": {
     "end_time": "2025-03-04T14:00:31.094733Z",
     "start_time": "2025-03-04T14:00:31.052174Z"
    }
   },
   "cell_type": "code",
   "source": [
    "x1 =torch.randn(3, 3, d_model)\n",
    "x2 = torch.randn(3, 3, d_model)"
   ],
   "id": "7f601e593c187938",
   "outputs": [],
   "execution_count": 6
  },
  {
   "metadata": {
    "ExecuteTime": {
     "end_time": "2025-03-04T14:00:32.306581Z",
     "start_time": "2025-03-04T14:00:32.284256Z"
    }
   },
   "cell_type": "code",
   "source": "x1",
   "id": "a03cae9027179c2d",
   "outputs": [
    {
     "data": {
      "text/plain": [
       "tensor([[[ 0.0527, -1.2426,  1.2909,  ..., -1.5253, -0.0935, -1.0982],\n",
       "         [-0.2250,  1.7235,  0.6064,  ...,  0.3245,  0.7627, -1.2463],\n",
       "         [ 0.4511,  0.3290, -0.3937,  ...,  0.1170, -1.1236,  0.1804]],\n",
       "\n",
       "        [[ 1.2248, -0.0044,  0.9529,  ...,  0.7061,  1.3966,  0.1473],\n",
       "         [ 0.8469, -0.1468,  0.4483,  ..., -0.5446,  0.3984, -1.3787],\n",
       "         [-2.4589, -0.9692, -1.7227,  ..., -2.1790,  0.5382,  1.3628]],\n",
       "\n",
       "        [[-0.5517,  0.6642,  0.1396,  ..., -0.4047,  0.2395,  0.8428],\n",
       "         [ 0.2173, -0.7260, -0.0628,  ...,  0.6815,  1.8872, -0.9055],\n",
       "         [ 0.6652,  1.4955,  2.5135,  ..., -0.8009,  0.2508,  0.0552]]])"
      ]
     },
     "execution_count": 7,
     "metadata": {},
     "output_type": "execute_result"
    }
   ],
   "execution_count": 7
  },
  {
   "metadata": {
    "ExecuteTime": {
     "end_time": "2025-03-04T14:00:35.904396Z",
     "start_time": "2025-03-04T14:00:35.886226Z"
    }
   },
   "cell_type": "code",
   "source": "x2",
   "id": "49d82174319c9b65",
   "outputs": [
    {
     "data": {
      "text/plain": [
       "tensor([[[ 0.4359, -1.1808, -0.2646,  ...,  0.7735,  1.1089, -0.3538],\n",
       "         [-1.7400, -0.7132, -0.0760,  ...,  0.5857,  0.4311, -1.1933],\n",
       "         [-0.0159, -0.2312,  0.4211,  ...,  0.6084, -1.3262, -1.7870]],\n",
       "\n",
       "        [[-1.4955,  0.6510,  0.1078,  ...,  0.7017,  0.6321,  1.2937],\n",
       "         [-1.3954, -0.5071,  0.1763,  ..., -0.7485,  0.3866, -1.6701],\n",
       "         [-1.1278,  0.9979, -0.3493,  ..., -0.6838, -1.3018,  0.0183]],\n",
       "\n",
       "        [[ 0.5589, -0.4655,  0.3789,  ..., -0.9265, -0.6771,  1.0752],\n",
       "         [ 1.7235,  0.9116,  1.3384,  ..., -0.8618, -0.1245,  0.8247],\n",
       "         [-0.7779, -0.6472, -0.3475,  ..., -0.7419, -0.5665, -0.6998]]])"
      ]
     },
     "execution_count": 8,
     "metadata": {},
     "output_type": "execute_result"
    }
   ],
   "execution_count": 8
  },
  {
   "metadata": {
    "ExecuteTime": {
     "end_time": "2025-03-04T14:03:25.726569Z",
     "start_time": "2025-03-04T14:03:25.711654Z"
    }
   },
   "cell_type": "code",
   "source": "self_attention_v1 = Self_Attention_V1(d_model)",
   "id": "409e13f2363c7003",
   "outputs": [],
   "execution_count": 12
  },
  {
   "metadata": {
    "ExecuteTime": {
     "end_time": "2025-03-04T14:03:30.806271Z",
     "start_time": "2025-03-04T14:03:30.765992Z"
    }
   },
   "cell_type": "code",
   "source": "self_attention_v1(x1)",
   "id": "63a45876b6dde7a2",
   "outputs": [
    {
     "name": "stdout",
     "output_type": "stream",
     "text": [
      "tensor([[[0.3355, 0.1977, 0.4668],\n",
      "         [0.2988, 0.5397, 0.1614],\n",
      "         [0.1966, 0.4930, 0.3104]],\n",
      "\n",
      "        [[0.4461, 0.3440, 0.2099],\n",
      "         [0.3270, 0.2781, 0.3948],\n",
      "         [0.3075, 0.3118, 0.3807]],\n",
      "\n",
      "        [[0.2655, 0.4441, 0.2904],\n",
      "         [0.3172, 0.2912, 0.3917],\n",
      "         [0.1018, 0.4921, 0.4061]]], grad_fn=<SoftmaxBackward0>)\n"
     ]
    },
    {
     "data": {
      "text/plain": [
       "tensor([[[-1.2194e-01, -7.2911e-02,  3.6519e-01,  ..., -4.8389e-01,\n",
       "           4.6420e-01, -4.0704e-01],\n",
       "         [-4.7353e-01,  2.2055e-01, -1.3577e-01,  ...,  5.0022e-02,\n",
       "           2.4765e-02, -5.8594e-02],\n",
       "         [-3.9524e-01,  1.4390e-01,  1.0377e-04,  ..., -1.0531e-01,\n",
       "           1.3119e-01, -1.2559e-01]],\n",
       "\n",
       "        [[ 3.9202e-01, -3.6345e-01, -3.3752e-01,  ...,  1.0022e-01,\n",
       "          -2.9263e-01, -3.2153e-01],\n",
       "         [ 2.7521e-01, -2.8127e-01, -2.8557e-01,  ...,  1.6101e-01,\n",
       "          -2.9369e-03, -3.8306e-01],\n",
       "         [ 2.7998e-01, -2.9448e-01, -2.5768e-01,  ...,  1.3411e-01,\n",
       "          -4.0408e-02, -3.6583e-01]],\n",
       "\n",
       "        [[-8.7865e-02, -2.7265e-01, -8.7093e-01,  ...,  2.6131e-02,\n",
       "          -2.8588e-02,  4.2560e-01],\n",
       "         [-6.0543e-02, -3.5559e-01, -7.6949e-01,  ..., -7.2555e-02,\n",
       "          -1.8804e-01,  4.0430e-01],\n",
       "         [ 1.0860e-01, -3.3282e-01, -8.0785e-01,  ..., -3.8477e-02,\n",
       "          -5.7676e-02,  5.8644e-01]]], grad_fn=<UnsafeViewBackward0>)"
      ]
     },
     "execution_count": 13,
     "metadata": {},
     "output_type": "execute_result"
    }
   ],
   "execution_count": 13
  },
  {
   "metadata": {
    "ExecuteTime": {
     "end_time": "2025-03-04T14:03:43.903321Z",
     "start_time": "2025-03-04T14:03:43.891303Z"
    }
   },
   "cell_type": "code",
   "source": [
    "class Self_Attention_V2(nn.Module):\n",
    "    def __init__(self, hiddin_dim):\n",
    "        super().__init__()\n",
    "        self.hiddin_dim = hiddin_dim\n",
    "        self.QKV_proj = nn.Linear(hiddin_dim, hiddin_dim*3)\n",
    "    def forward(self, X):\n",
    "        QKV = self.QKV_proj(X)\n",
    "        Q,K,V = torch.split(QKV,hidden_dim,dim=-1)\n",
    "        attention_weight= F.softmax(Q@K.transpose(-2,-1)/math.sqrt(hidden_dim),dim=-1)\n",
    "        return attention_weight@V\n"
   ],
   "id": "c4f485844ff94dc1",
   "outputs": [],
   "execution_count": 14
  },
  {
   "metadata": {
    "ExecuteTime": {
     "end_time": "2025-03-04T14:04:01.127522Z",
     "start_time": "2025-03-04T14:04:01.117339Z"
    }
   },
   "cell_type": "code",
   "source": "self_attention_v2= Self_Attention_V2(d_model)\n",
   "id": "5668ad4d89a8de8c",
   "outputs": [],
   "execution_count": 15
  },
  {
   "metadata": {
    "ExecuteTime": {
     "end_time": "2025-03-04T14:04:06.374210Z",
     "start_time": "2025-03-04T14:04:06.232226Z"
    }
   },
   "cell_type": "code",
   "source": "self_attention_v2(x1)",
   "id": "c8fb745003ab7f0e",
   "outputs": [
    {
     "ename": "ValueError",
     "evalue": "too many values to unpack (expected 3)",
     "output_type": "error",
     "traceback": [
      "\u001B[31m---------------------------------------------------------------------------\u001B[39m",
      "\u001B[31mValueError\u001B[39m                                Traceback (most recent call last)",
      "\u001B[36mCell\u001B[39m\u001B[36m \u001B[39m\u001B[32mIn[16]\u001B[39m\u001B[32m, line 1\u001B[39m\n\u001B[32m----> \u001B[39m\u001B[32m1\u001B[39m \u001B[43mself_attention_v2\u001B[49m\u001B[43m(\u001B[49m\u001B[43mx1\u001B[49m\u001B[43m)\u001B[49m\n",
      "\u001B[36mFile \u001B[39m\u001B[32m~\\miniconda3\\Lib\\site-packages\\torch\\nn\\modules\\module.py:1739\u001B[39m, in \u001B[36mModule._wrapped_call_impl\u001B[39m\u001B[34m(self, *args, **kwargs)\u001B[39m\n\u001B[32m   1737\u001B[39m     \u001B[38;5;28;01mreturn\u001B[39;00m \u001B[38;5;28mself\u001B[39m._compiled_call_impl(*args, **kwargs)  \u001B[38;5;66;03m# type: ignore[misc]\u001B[39;00m\n\u001B[32m   1738\u001B[39m \u001B[38;5;28;01melse\u001B[39;00m:\n\u001B[32m-> \u001B[39m\u001B[32m1739\u001B[39m     \u001B[38;5;28;01mreturn\u001B[39;00m \u001B[38;5;28;43mself\u001B[39;49m\u001B[43m.\u001B[49m\u001B[43m_call_impl\u001B[49m\u001B[43m(\u001B[49m\u001B[43m*\u001B[49m\u001B[43margs\u001B[49m\u001B[43m,\u001B[49m\u001B[43m \u001B[49m\u001B[43m*\u001B[49m\u001B[43m*\u001B[49m\u001B[43mkwargs\u001B[49m\u001B[43m)\u001B[49m\n",
      "\u001B[36mFile \u001B[39m\u001B[32m~\\miniconda3\\Lib\\site-packages\\torch\\nn\\modules\\module.py:1750\u001B[39m, in \u001B[36mModule._call_impl\u001B[39m\u001B[34m(self, *args, **kwargs)\u001B[39m\n\u001B[32m   1745\u001B[39m \u001B[38;5;66;03m# If we don't have any hooks, we want to skip the rest of the logic in\u001B[39;00m\n\u001B[32m   1746\u001B[39m \u001B[38;5;66;03m# this function, and just call forward.\u001B[39;00m\n\u001B[32m   1747\u001B[39m \u001B[38;5;28;01mif\u001B[39;00m \u001B[38;5;129;01mnot\u001B[39;00m (\u001B[38;5;28mself\u001B[39m._backward_hooks \u001B[38;5;129;01mor\u001B[39;00m \u001B[38;5;28mself\u001B[39m._backward_pre_hooks \u001B[38;5;129;01mor\u001B[39;00m \u001B[38;5;28mself\u001B[39m._forward_hooks \u001B[38;5;129;01mor\u001B[39;00m \u001B[38;5;28mself\u001B[39m._forward_pre_hooks\n\u001B[32m   1748\u001B[39m         \u001B[38;5;129;01mor\u001B[39;00m _global_backward_pre_hooks \u001B[38;5;129;01mor\u001B[39;00m _global_backward_hooks\n\u001B[32m   1749\u001B[39m         \u001B[38;5;129;01mor\u001B[39;00m _global_forward_hooks \u001B[38;5;129;01mor\u001B[39;00m _global_forward_pre_hooks):\n\u001B[32m-> \u001B[39m\u001B[32m1750\u001B[39m     \u001B[38;5;28;01mreturn\u001B[39;00m \u001B[43mforward_call\u001B[49m\u001B[43m(\u001B[49m\u001B[43m*\u001B[49m\u001B[43margs\u001B[49m\u001B[43m,\u001B[49m\u001B[43m \u001B[49m\u001B[43m*\u001B[49m\u001B[43m*\u001B[49m\u001B[43mkwargs\u001B[49m\u001B[43m)\u001B[49m\n\u001B[32m   1752\u001B[39m result = \u001B[38;5;28;01mNone\u001B[39;00m\n\u001B[32m   1753\u001B[39m called_always_called_hooks = \u001B[38;5;28mset\u001B[39m()\n",
      "\u001B[36mCell\u001B[39m\u001B[36m \u001B[39m\u001B[32mIn[14]\u001B[39m\u001B[32m, line 8\u001B[39m, in \u001B[36mSelf_Attention_V2.forward\u001B[39m\u001B[34m(self, X)\u001B[39m\n\u001B[32m      6\u001B[39m \u001B[38;5;28;01mdef\u001B[39;00m\u001B[38;5;250m \u001B[39m\u001B[34mforward\u001B[39m(\u001B[38;5;28mself\u001B[39m, X):\n\u001B[32m      7\u001B[39m     QKV = \u001B[38;5;28mself\u001B[39m.QKV_proj(X)\n\u001B[32m----> \u001B[39m\u001B[32m8\u001B[39m     Q,K,V = torch.split(QKV,hidden_dim,dim=-\u001B[32m1\u001B[39m)\n\u001B[32m      9\u001B[39m     attention_weight= F.softmax(Q\u001B[38;5;129m@K\u001B[39m.transpose(-\u001B[32m2\u001B[39m,-\u001B[32m1\u001B[39m)/math.sqrt(hidden_dim),dim=-\u001B[32m1\u001B[39m)\n\u001B[32m     10\u001B[39m     \u001B[38;5;28;01mreturn\u001B[39;00m attention_weight\u001B[38;5;129m@V\u001B[39m\n",
      "\u001B[31mValueError\u001B[39m: too many values to unpack (expected 3)"
     ]
    }
   ],
   "execution_count": 16
  },
  {
   "metadata": {},
   "cell_type": "code",
   "outputs": [],
   "execution_count": null,
   "source": "",
   "id": "c9f36957b0c7a4a3"
  }
 ],
 "metadata": {
  "kernelspec": {
   "display_name": "Python 3",
   "language": "python",
   "name": "python3"
  },
  "language_info": {
   "codemirror_mode": {
    "name": "ipython",
    "version": 2
   },
   "file_extension": ".py",
   "mimetype": "text/x-python",
   "name": "python",
   "nbconvert_exporter": "python",
   "pygments_lexer": "ipython2",
   "version": "2.7.6"
  }
 },
 "nbformat": 4,
 "nbformat_minor": 5
}
